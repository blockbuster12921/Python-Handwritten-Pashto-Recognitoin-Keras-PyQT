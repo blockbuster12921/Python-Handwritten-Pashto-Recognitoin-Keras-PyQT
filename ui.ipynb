{
 "cells": [
  {
   "cell_type": "code",
   "execution_count": 1,
   "metadata": {},
   "outputs": [
    {
     "name": "stdout",
     "output_type": "stream",
     "text": [
      "1/1 [==============================] - 1s 1s/step\n",
      "د\n",
      "1/1 [==============================] - 0s 71ms/step\n",
      "س\n",
      "1/1 [==============================] - 0s 72ms/step\n",
      "س\n",
      "1/1 [==============================] - 0s 71ms/step\n",
      "ص\n",
      "WARNING:tensorflow:5 out of the last 5 calls to <function Model.make_predict_function.<locals>.predict_function at 0x000001ACE533C9D0> triggered tf.function retracing. Tracing is expensive and the excessive number of tracings could be due to (1) creating @tf.function repeatedly in a loop, (2) passing tensors with different shapes, (3) passing Python objects instead of tensors. For (1), please define your @tf.function outside of the loop. For (2), @tf.function has reduce_retracing=True option that can avoid unnecessary retracing. For (3), please refer to https://www.tensorflow.org/guide/function#controlling_retracing and https://www.tensorflow.org/api_docs/python/tf/function for  more details.\n",
      "1/1 [==============================] - 0s 74ms/step\n",
      "د\n"
     ]
    },
    {
     "data": {
      "text/plain": [
       "0"
      ]
     },
     "execution_count": 1,
     "metadata": {},
     "output_type": "execute_result"
    }
   ],
   "source": [
    "from PyQt5.QtCore import *\n",
    "from PyQt5.QtCore import *\n",
    "from PyQt5.QtWidgets import *\n",
    "import sys\n",
    "\n",
    "import numpy as np\n",
    "import cv2\n",
    "from tensorflow import keras\n",
    "import os\n",
    "\n",
    "class MainWidget(QWidget):\n",
    "\n",
    "   def __init__(self, *args, **kwargs):\n",
    "      super(MainWidget, self).__init__(*args, **kwargs)\n",
    "      mainLayout = QHBoxLayout()\n",
    "      self.uploadPushButton = QPushButton(\"Upload Image...\")\n",
    "      self.uploadPushButton.setFixedSize(300, 70)\n",
    "      self.uploadPushButton.clicked.connect(self.slotUploadPushButtonClicked)\n",
    "      mainLayout.addWidget(self.uploadPushButton)\n",
    "      self.setLayout(mainLayout)\n",
    "      self.setFixedSize(800, 300)\n",
    "      self.pashtoList = ['ا', 'ب', 'پ', 'ت', 'ټ', 'ث', 'ج', 'چ',\n",
    "      'ح', 'خ', 'څ', 'ځ', 'د', 'ډ', 'ر', 'ړ', 'ز', 'ژ', 'ږ', 'س',\n",
    "      'ش', 'ښ', 'ص', 'ض', 'ط', 'ظ', 'ع', 'غ', 'ف', 'ق', 'ک', 'ګ',\n",
    "      'ل', 'م', 'ن', 'ڼ', 'و', 'ه', 'ء', 'ي', 'ې', 'ی', 'ئ']\n",
    "      \n",
    "   def slotUploadPushButtonClicked(self):\n",
    "      #try:\n",
    "      fname = QFileDialog.getOpenFileName(self, 'Open File', '', \"Image Files (*.jpg *.png *.gif)\")[0]\n",
    "      self.model = keras.models.load_model('phasto.h5')\n",
    "      img = cv2.imread(fname)\n",
    "      img = cv2.cvtColor(img, cv2.COLOR_BGR2GRAY)\n",
    "      img = cv2.resize(img, (28, 28))\n",
    "      imgSum = np.sum(img)\n",
    "      if imgSum > 99900:\n",
    "         img = cv2.bitwise_not(img)\n",
    "      img = img.reshape(1, 28, 28, 1)\n",
    "      img = img / 255\n",
    "      \n",
    "      \n",
    "      predictedLabel = self.model.predict(img).argmax()\n",
    "      predictedChar = self.pashtoList[predictedLabel]\n",
    "      print(predictedChar)\n",
    "      self.msg = QMessageBox()\n",
    "      self.msg.setText('The alphabet is ' + predictedChar)\n",
    "      self.msg.show()\n",
    "      \"\"\"except:\n",
    "         self.errMsg = QMessageBox()\n",
    "         self.errMsg.setIcon(QMessageBox.Warning)\n",
    "         self.errMsg.setText('Make sure that your input file is correct form. 28 * 28')\n",
    "         self.errMsg.show()\"\"\"\n",
    "\n",
    "      \n",
    "\n",
    "app = QApplication(sys.argv)\n",
    "w = MainWidget()\n",
    "w.show()\n",
    "app.exec_()"
   ]
  },
  {
   "cell_type": "code",
   "execution_count": null,
   "metadata": {},
   "outputs": [],
   "source": []
  }
 ],
 "metadata": {
  "kernelspec": {
   "display_name": "Python 3.9.7 ('base')",
   "language": "python",
   "name": "python3"
  },
  "language_info": {
   "codemirror_mode": {
    "name": "ipython",
    "version": 3
   },
   "file_extension": ".py",
   "mimetype": "text/x-python",
   "name": "python",
   "nbconvert_exporter": "python",
   "pygments_lexer": "ipython3",
   "version": "3.9.7"
  },
  "orig_nbformat": 4,
  "vscode": {
   "interpreter": {
    "hash": "723be5481ed0e85912221e57dcd578d8762ee56f8237b738312dcec1487020e8"
   }
  }
 },
 "nbformat": 4,
 "nbformat_minor": 2
}
