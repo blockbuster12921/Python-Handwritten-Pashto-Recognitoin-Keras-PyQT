{
 "cells": [
  {
   "cell_type": "code",
   "execution_count": 26,
   "metadata": {},
   "outputs": [],
   "source": [
    "import numpy as np\n",
    "import cv2\n",
    "from tensorflow import keras\n",
    "import os"
   ]
  },
  {
   "cell_type": "code",
   "execution_count": 27,
   "metadata": {},
   "outputs": [],
   "source": [
    "model = keras.models.load_model('phasto.h5')"
   ]
  },
  {
   "cell_type": "code",
   "execution_count": 31,
   "metadata": {},
   "outputs": [
    {
     "name": "stdout",
     "output_type": "stream",
     "text": [
      "175692\n",
      "1/1 [==============================] - 0s 27ms/step\n",
      "13\n"
     ]
    }
   ],
   "source": [
    "img = cv2.imread('1.png')\n",
    "img = cv2.resize(img, (28, 28))\n",
    "img = cv2.cvtColor(img, cv2.COLOR_BGR2GRAY)\n",
    "print(np.sum(img))\n",
    "img = cv2.bitwise_not(img)\n",
    "cv2.imshow('1', img)\n",
    "cv2.waitKey(0)\n",
    "cv2.destroyAllWindows()\n",
    "#cv2.imwrite('result.png', img)\n",
    "img = img.reshape(1, 28, 28, 1)\n",
    "img = img / 255\n",
    "predicted_label = model.predict(img).argmax() + 1\n",
    "print(predicted_label)\n"
   ]
  },
  {
   "cell_type": "code",
   "execution_count": 29,
   "metadata": {},
   "outputs": [
    {
     "data": {
      "text/plain": [
       "\"filepath = './Pashto/02/'\\ni = 0\\nfor fileName in os.listdir(filepath):\\n    i += 1\\n    if i > 1:\\n        break\\n    img = cv2.imread(os.path.join(filepath, fileName))\\n    img = cv2.cvtColor(img, cv2.COLOR_BGR2GRAY)\\n    img = img.reshape(1, 28, 28, 1)\\n    print(np.sum(img) / 255)\\n    img = img / 255\\n    predicted_label = model.predict(img).argmax() + 1\\n    print(predicted_label)\""
      ]
     },
     "execution_count": 29,
     "metadata": {},
     "output_type": "execute_result"
    }
   ],
   "source": [
    "\"\"\"filepath = './Pashto/02/'\n",
    "i = 0\n",
    "for fileName in os.listdir(filepath):\n",
    "    i += 1\n",
    "    if i > 1:\n",
    "        break\n",
    "    img = cv2.imread(os.path.join(filepath, fileName))\n",
    "    img = cv2.cvtColor(img, cv2.COLOR_BGR2GRAY)\n",
    "    img = img.reshape(1, 28, 28, 1)\n",
    "    print(np.sum(img) / 255)\n",
    "    img = img / 255\n",
    "    predicted_label = model.predict(img).argmax() + 1\n",
    "    print(predicted_label)\"\"\""
   ]
  }
 ],
 "metadata": {
  "kernelspec": {
   "display_name": "Python 3.9.7 ('base')",
   "language": "python",
   "name": "python3"
  },
  "language_info": {
   "codemirror_mode": {
    "name": "ipython",
    "version": 3
   },
   "file_extension": ".py",
   "mimetype": "text/x-python",
   "name": "python",
   "nbconvert_exporter": "python",
   "pygments_lexer": "ipython3",
   "version": "3.9.7"
  },
  "orig_nbformat": 4,
  "vscode": {
   "interpreter": {
    "hash": "723be5481ed0e85912221e57dcd578d8762ee56f8237b738312dcec1487020e8"
   }
  }
 },
 "nbformat": 4,
 "nbformat_minor": 2
}
